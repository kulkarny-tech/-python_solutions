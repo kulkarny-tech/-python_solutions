{
  "cells": [
    {
      "cell_type": "markdown",
      "id": "cdaa8996-9ff1-482a-8105-5fc6e4ce24ef",
      "metadata": {
        "id": "cdaa8996-9ff1-482a-8105-5fc6e4ce24ef"
      },
      "source": [
        "#### **1**.Write a program check whether a year is leap year or Not\n",
        "\n",
        "\n"
      ]
    },
    {
      "cell_type": "code",
      "source": [
        "n=int(input(\"enter the year\"))\n",
        "if (n%4==0 and n%100!=0) or (n%400==0):\n",
        "  print(\"leap year\")\n",
        "else:\n",
        "    print(\"not a leap year\")"
      ],
      "metadata": {
        "colab": {
          "base_uri": "https://localhost:8080/"
        },
        "id": "XYy3keUTSObU",
        "outputId": "f72e2998-7258-4ac1-b6ba-b0bb0a32f8d6"
      },
      "id": "XYy3keUTSObU",
      "execution_count": 8,
      "outputs": [
        {
          "output_type": "stream",
          "name": "stdout",
          "text": [
            "enter the year2005\n",
            "not a leap year\n"
          ]
        }
      ]
    },
    {
      "cell_type": "markdown",
      "source": [
        "2.Write a program to check whether the person is senior citizen or not"
      ],
      "metadata": {
        "id": "OEL3ny6fQe5Y"
      },
      "id": "OEL3ny6fQe5Y"
    },
    {
      "cell_type": "code",
      "source": [
        "age=int(input(\"enter the age:\"))\n",
        "if age>=60:\n",
        "  print(\"senior citizen\")\n",
        "else:\n",
        "  print(\"not a senior citizen\")"
      ],
      "metadata": {
        "colab": {
          "base_uri": "https://localhost:8080/"
        },
        "id": "cWIedxBkTg6m",
        "outputId": "566795b9-8724-4906-81ad-bc8d7bc5fd11"
      },
      "id": "cWIedxBkTg6m",
      "execution_count": 9,
      "outputs": [
        {
          "output_type": "stream",
          "name": "stdout",
          "text": [
            "enter the age:76\n",
            "senior citizen\n"
          ]
        }
      ]
    },
    {
      "cell_type": "markdown",
      "source": [
        "3. Get three input(age) from the user and check who is older person\n"
      ],
      "metadata": {
        "id": "opzNa5ADRJ89"
      },
      "id": "opzNa5ADRJ89"
    },
    {
      "cell_type": "code",
      "source": [
        "n1=int(input(\"enter the age:\"))\n",
        "n2=int(input(\"enter the age:\"))\n",
        "n3=int(input(\"enter the age:\"))\n",
        "if n1>n2 and n1>n3:\n",
        "  print(\"n1 is older\")\n",
        "elif n2>n1 and n2>n3:\n",
        "  print(\"n2 is older\")\n",
        "else:\n",
        "  print(\"n3 is older\")"
      ],
      "metadata": {
        "colab": {
          "base_uri": "https://localhost:8080/"
        },
        "id": "rOCx0sQrUAFz",
        "outputId": "8899b48f-07f1-4477-f335-b208a6f3430f"
      },
      "id": "rOCx0sQrUAFz",
      "execution_count": 10,
      "outputs": [
        {
          "output_type": "stream",
          "name": "stdout",
          "text": [
            "enter the age:14\n",
            "enter the age:65\n",
            "enter the age:89\n",
            "n3 is older\n"
          ]
        }
      ]
    },
    {
      "cell_type": "markdown",
      "source": [
        "4.Check the experience of the user and give diwali bonus according to their experience"
      ],
      "metadata": {
        "id": "pIjDzEMeRBBG"
      },
      "id": "pIjDzEMeRBBG"
    },
    {
      "cell_type": "code",
      "source": [
        "years=int(input(\"enter the years of experience:\"))\n",
        "if years >=5:\n",
        "  print(\"youre eligible for diwali bonus\")\n",
        "else:\n",
        "  print(\"not eligible\")"
      ],
      "metadata": {
        "colab": {
          "base_uri": "https://localhost:8080/"
        },
        "id": "AWcUDHPZUynP",
        "outputId": "25b5e47b-a8ed-4945-f9d2-14d45f23e983"
      },
      "id": "AWcUDHPZUynP",
      "execution_count": 11,
      "outputs": [
        {
          "output_type": "stream",
          "name": "stdout",
          "text": [
            "enter the years of experience:6\n",
            "youre eligible for diwali bonus\n"
          ]
        }
      ]
    },
    {
      "cell_type": "markdown",
      "source": [
        "5. Check whether the person wants to take book or not from library\n",
        "if they want to take then check if they have libravry card or not and then\n",
        "if they have get input from user which book they need to take and remove that book from the list of books in the library\n"
      ],
      "metadata": {
        "id": "ZPeLRET3RaS1"
      },
      "id": "ZPeLRET3RaS1"
    },
    {
      "cell_type": "code",
      "source": [
        "list_of_books=[\"weasly\",\"slave\",\"idiot\",\"resolution\"]\n",
        "book=input(\"enter whether you wants to take book or not:\").lower()\n",
        "if book==\"yes\":\n",
        "  card=input(\"do you have library card\").lower()\n",
        "  if card==\"yes\":\n",
        "    user=input(\"enter the book you need to take are remove:\")\n",
        "    if user in list_of_books:\n",
        "      list_of_books.remove(user)\n",
        "      print(list_of_books)\n",
        "    else:\n",
        "      print(\"book is not available\")\n",
        "  else:\n",
        "    print(\"sorry cannot take or remove the books\")\n",
        "else:\n",
        "  print(\"no books taken\")\n"
      ],
      "metadata": {
        "colab": {
          "base_uri": "https://localhost:8080/"
        },
        "id": "8tEFHciNV2Ns",
        "outputId": "94ce43bb-f836-4c26-d6a5-8748709e69e1"
      },
      "id": "8tEFHciNV2Ns",
      "execution_count": 14,
      "outputs": [
        {
          "output_type": "stream",
          "name": "stdout",
          "text": [
            "enter whether you wants to take book or not:yes\n",
            "do you have library cardyes\n",
            "enter the book you need to take are remove:slave\n",
            "['weasly', 'idiot', 'resolution']\n"
          ]
        }
      ]
    },
    {
      "cell_type": "markdown",
      "id": "aeaf1c1b-ab9b-4ad1-81a0-b2cd95de474a",
      "metadata": {
        "id": "aeaf1c1b-ab9b-4ad1-81a0-b2cd95de474a"
      },
      "source": [
        "# conditional statement"
      ]
    },
    {
      "cell_type": "markdown",
      "id": "c1f7cb84-c640-492e-b040-a62835c131fa",
      "metadata": {
        "id": "c1f7cb84-c640-492e-b040-a62835c131fa"
      },
      "source": [
        "# Loops"
      ]
    },
    {
      "cell_type": "markdown",
      "id": "134c677b-8a13-4864-8acc-e08e1a8574b3",
      "metadata": {
        "id": "134c677b-8a13-4864-8acc-e08e1a8574b3"
      },
      "source": [
        "\n",
        "#### **1**. Write a Program to Print a factorial of a number\n"
      ]
    },
    {
      "cell_type": "code",
      "source": [
        "fact=1\n",
        "n=int(input(\"enter the number:\"))\n",
        "for i in range(n,1,-1):\n",
        "  fact=fact*i\n",
        "print(fact)\n"
      ],
      "metadata": {
        "colab": {
          "base_uri": "https://localhost:8080/"
        },
        "id": "WT7bs6vgdfvI",
        "outputId": "243585ec-57e0-47d6-8ee2-9535cb142a67"
      },
      "id": "WT7bs6vgdfvI",
      "execution_count": 2,
      "outputs": [
        {
          "output_type": "stream",
          "name": "stdout",
          "text": [
            "enter the number:5\n",
            "120\n"
          ]
        }
      ]
    },
    {
      "cell_type": "markdown",
      "source": [
        "2. Write a Program to check whether the number is armstrong or not"
      ],
      "metadata": {
        "id": "9lJ-w4g0c026"
      },
      "id": "9lJ-w4g0c026"
    },
    {
      "cell_type": "code",
      "source": [
        "armstrong=0\n",
        "n=\"9474\"\n",
        "for i in n:\n",
        "    armstrong=armstrong+int(i)**len(n)\n",
        "if armstrong==int(n):\n",
        "  print(\"armstrong\")\n",
        "else:\n",
        "  print(\"not armstrong\")\n",
        "\n",
        "\n",
        "\n"
      ],
      "metadata": {
        "colab": {
          "base_uri": "https://localhost:8080/"
        },
        "id": "WZPY7Qk9gA9R",
        "outputId": "9f4aad97-5998-4054-82ed-d46c4b919481"
      },
      "id": "WZPY7Qk9gA9R",
      "execution_count": 6,
      "outputs": [
        {
          "output_type": "stream",
          "name": "stdout",
          "text": [
            "armstrong\n"
          ]
        }
      ]
    },
    {
      "cell_type": "markdown",
      "source": [
        "3.Write a program to print a stars"
      ],
      "metadata": {
        "id": "ja_T5rgWc5y0"
      },
      "id": "ja_T5rgWc5y0"
    },
    {
      "cell_type": "code",
      "source": [
        "for i in range(1,6):\n",
        "  for j in range(1,i+1):\n",
        "    print(\"*\",end=\" \")\n",
        "  print()"
      ],
      "metadata": {
        "colab": {
          "base_uri": "https://localhost:8080/"
        },
        "id": "W4rhApdjk0Oa",
        "outputId": "230a0d09-c6f9-4cf5-d804-075a1a79452e"
      },
      "id": "W4rhApdjk0Oa",
      "execution_count": 16,
      "outputs": [
        {
          "output_type": "stream",
          "name": "stdout",
          "text": [
            "* \n",
            "* * \n",
            "* * * \n",
            "* * * * \n",
            "* * * * * \n"
          ]
        }
      ]
    },
    {
      "cell_type": "markdown",
      "source": [
        "4.Write a program to print a sum of digits accepted from the user"
      ],
      "metadata": {
        "id": "5tH2cd7adBe_"
      },
      "id": "5tH2cd7adBe_"
    },
    {
      "cell_type": "code",
      "source": [
        "n=input(\"enter the number:\")\n",
        "sum=0\n",
        "for i in n:\n",
        "  sum=sum+int(i)\n",
        "print(sum)"
      ],
      "metadata": {
        "colab": {
          "base_uri": "https://localhost:8080/"
        },
        "id": "KpQIDahClcdp",
        "outputId": "907d129f-9d7b-45a0-82cd-6c475e25f061"
      },
      "id": "KpQIDahClcdp",
      "execution_count": 19,
      "outputs": [
        {
          "output_type": "stream",
          "name": "stdout",
          "text": [
            "enter the number:77\n",
            "14\n"
          ]
        }
      ]
    },
    {
      "cell_type": "markdown",
      "source": [
        "5.Accept 10 no from the users and display the average value of all the numbers"
      ],
      "metadata": {
        "id": "uEEYCyQ3dHRi"
      },
      "id": "uEEYCyQ3dHRi"
    },
    {
      "cell_type": "code",
      "source": [
        "sum=0\n",
        "for i in range(1,11):\n",
        "  n=int(input(\"enter the number:\"))\n",
        "  sum=sum+n\n",
        "  avg=sum/10\n",
        "avg\n"
      ],
      "metadata": {
        "colab": {
          "base_uri": "https://localhost:8080/"
        },
        "id": "eW1fS_8jljqk",
        "outputId": "07105109-6db9-4e50-b1a3-54ae56e7512c"
      },
      "id": "eW1fS_8jljqk",
      "execution_count": 18,
      "outputs": [
        {
          "name": "stdout",
          "output_type": "stream",
          "text": [
            "enter the number:1\n",
            "enter the number:2\n",
            "enter the number:3\n",
            "enter the number:4\n",
            "enter the number:5\n",
            "enter the number:6\n",
            "enter the number:7\n",
            "enter the number:8\n",
            "enter the number:9\n",
            "enter the number:10\n"
          ]
        },
        {
          "output_type": "execute_result",
          "data": {
            "text/plain": [
              "5.5"
            ]
          },
          "metadata": {},
          "execution_count": 18
        }
      ]
    },
    {
      "cell_type": "markdown",
      "source": [
        "6. write a code to print multiplication table from 1 to 10 using nested loop\n"
      ],
      "metadata": {
        "id": "YPKAvvD4dMBd"
      },
      "id": "YPKAvvD4dMBd"
    },
    {
      "cell_type": "code",
      "source": [
        "for i in range(1,11):\n",
        "  for j in range(1,11):\n",
        "    print(i,\"*\",j,\"=\",i*j)\n",
        "  print()"
      ],
      "metadata": {
        "colab": {
          "base_uri": "https://localhost:8080/"
        },
        "collapsed": true,
        "id": "vWTxaNCUkN99",
        "outputId": "2518a600-e6de-4f91-d0f5-a83e45ef44ff"
      },
      "id": "vWTxaNCUkN99",
      "execution_count": 15,
      "outputs": [
        {
          "output_type": "stream",
          "name": "stdout",
          "text": [
            "1 * 1 = 1\n",
            "1 * 2 = 2\n",
            "1 * 3 = 3\n",
            "1 * 4 = 4\n",
            "1 * 5 = 5\n",
            "1 * 6 = 6\n",
            "1 * 7 = 7\n",
            "1 * 8 = 8\n",
            "1 * 9 = 9\n",
            "1 * 10 = 10\n",
            "\n",
            "2 * 1 = 2\n",
            "2 * 2 = 4\n",
            "2 * 3 = 6\n",
            "2 * 4 = 8\n",
            "2 * 5 = 10\n",
            "2 * 6 = 12\n",
            "2 * 7 = 14\n",
            "2 * 8 = 16\n",
            "2 * 9 = 18\n",
            "2 * 10 = 20\n",
            "\n",
            "3 * 1 = 3\n",
            "3 * 2 = 6\n",
            "3 * 3 = 9\n",
            "3 * 4 = 12\n",
            "3 * 5 = 15\n",
            "3 * 6 = 18\n",
            "3 * 7 = 21\n",
            "3 * 8 = 24\n",
            "3 * 9 = 27\n",
            "3 * 10 = 30\n",
            "\n",
            "4 * 1 = 4\n",
            "4 * 2 = 8\n",
            "4 * 3 = 12\n",
            "4 * 4 = 16\n",
            "4 * 5 = 20\n",
            "4 * 6 = 24\n",
            "4 * 7 = 28\n",
            "4 * 8 = 32\n",
            "4 * 9 = 36\n",
            "4 * 10 = 40\n",
            "\n",
            "5 * 1 = 5\n",
            "5 * 2 = 10\n",
            "5 * 3 = 15\n",
            "5 * 4 = 20\n",
            "5 * 5 = 25\n",
            "5 * 6 = 30\n",
            "5 * 7 = 35\n",
            "5 * 8 = 40\n",
            "5 * 9 = 45\n",
            "5 * 10 = 50\n",
            "\n",
            "6 * 1 = 6\n",
            "6 * 2 = 12\n",
            "6 * 3 = 18\n",
            "6 * 4 = 24\n",
            "6 * 5 = 30\n",
            "6 * 6 = 36\n",
            "6 * 7 = 42\n",
            "6 * 8 = 48\n",
            "6 * 9 = 54\n",
            "6 * 10 = 60\n",
            "\n",
            "7 * 1 = 7\n",
            "7 * 2 = 14\n",
            "7 * 3 = 21\n",
            "7 * 4 = 28\n",
            "7 * 5 = 35\n",
            "7 * 6 = 42\n",
            "7 * 7 = 49\n",
            "7 * 8 = 56\n",
            "7 * 9 = 63\n",
            "7 * 10 = 70\n",
            "\n",
            "8 * 1 = 8\n",
            "8 * 2 = 16\n",
            "8 * 3 = 24\n",
            "8 * 4 = 32\n",
            "8 * 5 = 40\n",
            "8 * 6 = 48\n",
            "8 * 7 = 56\n",
            "8 * 8 = 64\n",
            "8 * 9 = 72\n",
            "8 * 10 = 80\n",
            "\n",
            "9 * 1 = 9\n",
            "9 * 2 = 18\n",
            "9 * 3 = 27\n",
            "9 * 4 = 36\n",
            "9 * 5 = 45\n",
            "9 * 6 = 54\n",
            "9 * 7 = 63\n",
            "9 * 8 = 72\n",
            "9 * 9 = 81\n",
            "9 * 10 = 90\n",
            "\n",
            "10 * 1 = 10\n",
            "10 * 2 = 20\n",
            "10 * 3 = 30\n",
            "10 * 4 = 40\n",
            "10 * 5 = 50\n",
            "10 * 6 = 60\n",
            "10 * 7 = 70\n",
            "10 * 8 = 80\n",
            "10 * 9 = 90\n",
            "10 * 10 = 100\n",
            "\n"
          ]
        }
      ]
    },
    {
      "cell_type": "markdown",
      "id": "c6065084-549e-4957-8ad9-9021c921f520",
      "metadata": {
        "id": "c6065084-549e-4957-8ad9-9021c921f520"
      },
      "source": [
        "# Functions"
      ]
    },
    {
      "cell_type": "markdown",
      "id": "91769d04-5f21-43fc-9599-363b0e1edee5",
      "metadata": {
        "id": "91769d04-5f21-43fc-9599-363b0e1edee5"
      },
      "source": [
        "#### 1.Write a Python function that takes a list and returns a new list with distinct elements from the first list.\n",
        "#### Sample List : [1,2,3,3,3,3,4,5]\n",
        "#### Unique List : [1, 2, 3, 4, 5]\n"
      ]
    },
    {
      "cell_type": "code",
      "source": [
        "def unique(a):\n",
        "  b=[]\n",
        "\n",
        "  for i in a:\n",
        "    if i not in b:\n",
        "      b.append(i)\n",
        "  return b\n",
        "a=[1,2,3,3,3,3,4,5]\n",
        "result=unique(a)\n",
        "result"
      ],
      "metadata": {
        "colab": {
          "base_uri": "https://localhost:8080/"
        },
        "id": "jPHvhLevtMp9",
        "outputId": "f021cbe8-ce8a-468b-dd53-6d50c43e46b1"
      },
      "id": "jPHvhLevtMp9",
      "execution_count": 39,
      "outputs": [
        {
          "output_type": "execute_result",
          "data": {
            "text/plain": [
              "[1, 2, 3, 4, 5]"
            ]
          },
          "metadata": {},
          "execution_count": 39
        }
      ]
    },
    {
      "cell_type": "markdown",
      "source": [
        "2.Write a function count_vowels(string) that takes a string and returns the number of vowels in the string. Consider a, e, i, o, u"
      ],
      "metadata": {
        "id": "1tNqGo1-nu4p"
      },
      "id": "1tNqGo1-nu4p"
    },
    {
      "cell_type": "code",
      "source": [
        "def count_vowels(data):\n",
        "  vowels=\"aeiouAEIOU\"\n",
        "  count=0\n",
        "  for i in data:\n",
        "    if i in vowels:\n",
        "      count=count+1\n",
        "  return count\n",
        "data=input(\"enter the string:\")\n",
        "result=count_vowels(data)\n",
        "result"
      ],
      "metadata": {
        "colab": {
          "base_uri": "https://localhost:8080/"
        },
        "id": "MFOv_z1c4aOf",
        "outputId": "53016b89-b83a-4658-c05b-5a01026e8c8a"
      },
      "id": "MFOv_z1c4aOf",
      "execution_count": 40,
      "outputs": [
        {
          "name": "stdout",
          "output_type": "stream",
          "text": [
            "enter the string:kulkarny\n"
          ]
        },
        {
          "output_type": "execute_result",
          "data": {
            "text/plain": [
              "2"
            ]
          },
          "metadata": {},
          "execution_count": 40
        }
      ]
    },
    {
      "cell_type": "markdown",
      "source": [
        "3.Create a function is_prime(n) that takes a number and returns True if the number is prime, otherwise False\n"
      ],
      "metadata": {
        "id": "D6_ldxPBn1ly"
      },
      "id": "D6_ldxPBn1ly"
    },
    {
      "cell_type": "code",
      "source": [
        "import math\n",
        "def is_prime(n):\n",
        "  if n<2:\n",
        "    return False\n",
        "  for i in range(2,int(math.sqrt(n))+1):\n",
        "    if  n%i==0:\n",
        "      return False\n",
        "  else:\n",
        "      return True\n",
        "n=2\n",
        "result=is_prime(n)\n",
        "print(result)\n",
        "\n"
      ],
      "metadata": {
        "colab": {
          "base_uri": "https://localhost:8080/"
        },
        "id": "HmlM20pY5RvD",
        "outputId": "5c341936-b38b-4866-def0-b1c4d692085e"
      },
      "id": "HmlM20pY5RvD",
      "execution_count": 48,
      "outputs": [
        {
          "output_type": "stream",
          "name": "stdout",
          "text": [
            "True\n"
          ]
        }
      ]
    },
    {
      "cell_type": "markdown",
      "source": [
        "import math\n",
        "def is_prime(n):\n",
        "  for i in range(2,sqrt(n)+1):\n",
        "    if  n%i!=0:\n",
        "      return True\n",
        "    else:\n",
        "      return False\n",
        "n=25\n",
        "result=is_prime(n)\n",
        "      \n",
        "\n"
      ],
      "metadata": {
        "id": "sPg1PSHy5UI_"
      },
      "id": "sPg1PSHy5UI_"
    },
    {
      "cell_type": "markdown",
      "source": [
        "5 create a simple calculator function\n"
      ],
      "metadata": {
        "id": "YXxY5b-fn-Tk"
      },
      "id": "YXxY5b-fn-Tk"
    },
    {
      "cell_type": "code",
      "source": [
        "\n",
        "def calculator(a,b):\n",
        "  if n==1:\n",
        "    return a+b\n",
        "  elif n==2:\n",
        "    return a-b\n",
        "  elif n==3:\n",
        "    return a*b\n",
        "  elif n==4:\n",
        "    return a/b\n",
        "  else:\n",
        "    return \"invalid\"\n",
        "a=int(input(\"enter the number1:\"))\n",
        "b=int(input(\"enter the number2:\"))\n",
        "n=int(input(\"enter a number:\"))\n",
        "result=calculator(a,b)\n",
        "result"
      ],
      "metadata": {
        "colab": {
          "base_uri": "https://localhost:8080/"
        },
        "id": "ocXqoLN0_C3C",
        "outputId": "1a51e945-39b0-45b9-e71b-2a0e412b1872"
      },
      "id": "ocXqoLN0_C3C",
      "execution_count": 52,
      "outputs": [
        {
          "name": "stdout",
          "output_type": "stream",
          "text": [
            "enter the number1:1\n",
            "enter the number2:7\n",
            "enter a number:3\n"
          ]
        },
        {
          "output_type": "execute_result",
          "data": {
            "text/plain": [
              "7"
            ]
          },
          "metadata": {},
          "execution_count": 52
        }
      ]
    }
  ],
  "metadata": {
    "kernelspec": {
      "display_name": "Python 3 (ipykernel)",
      "language": "python",
      "name": "python3"
    },
    "language_info": {
      "codemirror_mode": {
        "name": "ipython",
        "version": 3
      },
      "file_extension": ".py",
      "mimetype": "text/x-python",
      "name": "python",
      "nbconvert_exporter": "python",
      "pygments_lexer": "ipython3",
      "version": "3.12.3"
    },
    "colab": {
      "provenance": [],
      "toc_visible": true
    }
  },
  "nbformat": 4,
  "nbformat_minor": 5
}